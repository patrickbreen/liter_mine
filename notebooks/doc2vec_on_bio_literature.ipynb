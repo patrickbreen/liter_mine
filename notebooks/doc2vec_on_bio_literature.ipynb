{
 "cells": [
  {
   "cell_type": "code",
   "execution_count": 4,
   "metadata": {
    "collapsed": false
   },
   "outputs": [
    {
     "data": {
      "text/plain": [
       "'/home/ubuntu/Desktop/literature/notebooks'"
      ]
     },
     "execution_count": 4,
     "metadata": {},
     "output_type": "execute_result"
    }
   ],
   "source": [
    "import os\n",
    "\n",
    "os.getcwd()"
   ]
  },
  {
   "cell_type": "code",
   "execution_count": 5,
   "metadata": {
    "collapsed": true
   },
   "outputs": [],
   "source": [
    "import xml.etree.ElementTree as ET\n",
    "\n",
    "tree = ET.parse(\"../data/articles.A-B/3_Biotech/3_Biotech_2011_Dec_3_1(4)_261-272.nxml\")\n",
    "root = tree.getroot()"
   ]
  },
  {
   "cell_type": "code",
   "execution_count": 6,
   "metadata": {
    "collapsed": false
   },
   "outputs": [
    {
     "data": {
      "text/plain": [
       "xml.etree.ElementTree.Element"
      ]
     },
     "execution_count": 6,
     "metadata": {},
     "output_type": "execute_result"
    }
   ],
   "source": [
    "type(root)"
   ]
  },
  {
   "cell_type": "code",
   "execution_count": 13,
   "metadata": {
    "collapsed": false
   },
   "outputs": [
    {
     "name": "stdout",
     "output_type": "stream",
     "text": [
      "<Element 'front' at 0x7fa8a5f65b88>\n",
      "<Element 'body' at 0x7fa8a5f20818>\n",
      "<Element 'back' at 0x7fa8a5ee2548>\n"
     ]
    }
   ],
   "source": [
    "for elem in root:\n",
    "    print(elem)"
   ]
  },
  {
   "cell_type": "code",
   "execution_count": 14,
   "metadata": {
    "collapsed": false
   },
   "outputs": [
    {
     "name": "stdout",
     "output_type": "stream",
     "text": [
      "<Element 'journal-meta' at 0x7fa8a5f192c8>\n",
      "<Element 'article-meta' at 0x7fa8a5f195e8>\n"
     ]
    }
   ],
   "source": [
    "front = root[0]\n",
    "for elem in front:\n",
    "    print(elem)"
   ]
  },
  {
   "cell_type": "code",
   "execution_count": 16,
   "metadata": {
    "collapsed": false
   },
   "outputs": [
    {
     "name": "stdout",
     "output_type": "stream",
     "text": [
      "<Element 'journal-id' at 0x7fa8a5f19318>\n",
      "<Element 'journal-id' at 0x7fa8a5f19368>\n",
      "<Element 'journal-title-group' at 0x7fa8a5f193b8>\n",
      "<Element 'issn' at 0x7fa8a5f19458>\n",
      "<Element 'issn' at 0x7fa8a5f194a8>\n",
      "<Element 'publisher' at 0x7fa8a5f194f8>\n"
     ]
    }
   ],
   "source": [
    "journal_meta = front[0]\n",
    "for elem in journal_meta:\n",
    "    print(elem)"
   ]
  },
  {
   "cell_type": "code",
   "execution_count": 15,
   "metadata": {
    "collapsed": false
   },
   "outputs": [
    {
     "name": "stdout",
     "output_type": "stream",
     "text": [
      "<Element 'journal-meta' at 0x7fa8a5f192c8>\n",
      "<Element 'article-meta' at 0x7fa8a5f195e8>\n"
     ]
    }
   ],
   "source": [
    "article_meta = front[1]\n",
    "for elem in article_meta:\n",
    "    print(elem)"
   ]
  },
  {
   "cell_type": "code",
   "execution_count": 19,
   "metadata": {
    "collapsed": false
   },
   "outputs": [
    {
     "data": {
      "text/plain": [
       "'journal-meta'"
      ]
     },
     "execution_count": 19,
     "metadata": {},
     "output_type": "execute_result"
    }
   ],
   "source": [
    "journal_meta.tag"
   ]
  },
  {
   "cell_type": "code",
   "execution_count": 83,
   "metadata": {
    "collapsed": false
   },
   "outputs": [
    {
     "name": "stdout",
     "output_type": "stream",
     "text": [
      "['cite_auth_surname', 'pub-id', 'article-id', 'cite_auth_names', 'cite_auth_given-names', 'p', 'author_given-names', 'journal-title', 'journal-id', 'author_names', 'author_surname', 'article-title']\n"
     ]
    }
   ],
   "source": [
    "def extract_article(xml_tree):\n",
    "    interesting_tags = [\"journal-id\", \"journal-title\", \"article-id\", \"article-title\", \"pub-id\", \"p\"]\n",
    "    auth_tags = [\"surname\", \"given-names\"]\n",
    "    article = {\"journal-id\":list(), \"journal-title\":list(), \"article-id\":list(),\n",
    "               \"article-title\":list(), \"p\":list(), \"pub-id\":list(),\n",
    "               \"author_surname\":list(), \"author_given-names\":list(),\n",
    "              \"cite_auth_surname\":list(), \"cite_auth_given-names\":list()}\n",
    "    for elem in xml_tree.iter():\n",
    "        if elem.tag == \"contrib-group\":\n",
    "            for sub_elem in elem.iter():\n",
    "                if sub_elem.tag in auth_tags:\n",
    "                    article[\"author_\" + sub_elem.tag].append(sub_elem.text)\n",
    "        elif elem.tag in interesting_tags:\n",
    "            article[elem.tag].append(elem.text)\n",
    "        elif elem.tag in auth_tags:\n",
    "            if elem.tag in auth_tags:\n",
    "                article[\"cite_auth_\" + elem.tag].append(elem.text)\n",
    "    \n",
    "    assert(len(article[\"author_given-names\"]) == len(article[\"author_surname\"]))\n",
    "    \n",
    "    article[\"author_names\"] = [gn + \" \" + sn for sn, gn in zip(article[\"author_surname\"], article[\"author_given-names\"])]\n",
    "    article[\"cite_auth_names\"] = [gn + \" \" + sn for sn, gn in zip(article[\"cite_auth_surname\"], article[\"cite_auth_given-names\"])]\n",
    "    article[\"cite_auth_names\"] = article[\"cite_auth_names\"][len(article[\"author_names\"]):]\n",
    "    \n",
    "    return article\n",
    "\n",
    "# print_tree(tree)\n",
    "article = extract_article(tree)\n",
    "print([n for n in article.keys()])"
   ]
  },
  {
   "cell_type": "markdown",
   "metadata": {},
   "source": [
    "\n",
    "# TODO\n",
    " - loop over all xml articles and build doc-vecs, word-vecs, co-author graphs, co-author-citation graphs.\n",
    " - use gensim doc2vec for now, perhaps write own implemetation in tensorflow that uses the same interface as gensim\n"
   ]
  },
  {
   "cell_type": "code",
   "execution_count": null,
   "metadata": {
    "collapsed": true
   },
   "outputs": [],
   "source": []
  },
  {
   "cell_type": "code",
   "execution_count": null,
   "metadata": {
    "collapsed": true
   },
   "outputs": [],
   "source": []
  },
  {
   "cell_type": "code",
   "execution_count": null,
   "metadata": {
    "collapsed": true
   },
   "outputs": [],
   "source": []
  }
 ],
 "metadata": {
  "kernelspec": {
   "display_name": "Python 3",
   "language": "python",
   "name": "python3"
  },
  "language_info": {
   "codemirror_mode": {
    "name": "ipython",
    "version": 3
   },
   "file_extension": ".py",
   "mimetype": "text/x-python",
   "name": "python",
   "nbconvert_exporter": "python",
   "pygments_lexer": "ipython3",
   "version": "3.5.1+"
  }
 },
 "nbformat": 4,
 "nbformat_minor": 0
}
